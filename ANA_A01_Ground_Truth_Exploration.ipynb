{
  "cells": [
    {
      "cell_type": "markdown",
      "metadata": {
        "id": "S7PzLSLQRfYD"
      },
      "source": [
        "# Ground Truth - Exploring Tree Properties\n",
        "\n",
        "> Data Provider: [Sustainable Landscapes GeoNetwork Catalog - Brazil](https://www.paisagenslidar.cnptia.embrapa.br/geonetwork/srv/spa/catalog.search#/metadata/44d96974-77b0-4e22-9fce-79609604bfd3) \n",
        "\n",
        "### Objective: \n",
        "\n",
        "* Develop a linear model to extract the coefficients in order to obtain the function that determines the best window size according to the tree height.\n",
        "\n",
        "### Justification: \n",
        "\n",
        "* According to this [paper](https://sci-hub.se/10.5589/m08-055) (as well as other academic references), when working with LiDAR data from **places with a high density of trees**, such as the Amazon Rainforest, it is often advantageous to use variable and smoothed window sizes over Local Maxima algorithms (LM) to achieve higher performance and accuracy.\n",
        "\n",
        "### Prodecure:\n",
        "\n",
        "1. **Clip Coordinates:** Since the LiDAR file coordinates cover a smaller area than the inventory data, in order to ensure data parity, I will set up the inventory data to cover the same area as the LiDAR file.\n",
        "2. **Basic Insights Exploration:** Determine the total number of living trees and unique species within the inventory data.\n",
        "3. **Nan Handleing:** The inventory data does not have the meassurments of all the trees it reports. Therefore, I'll filter out all the null values. \n",
        "4. **Sample Basic Observation:** Understand the number of valid registers to work with and the species diversity in the sample data.\n",
        "5. **Obtain Average Crown Size:** Since tree crowns are not perfect circles, the inventory data has measurments of crown radius taken from the center to the 4 cardinal points. I will calculate the average diameter. \n",
        "6. **Obtain and Evaluate Linear Model:** Apply and fit a Linear Regression model with Sci-kit Learn. Using *r-squared coefficient* to evaluate the model.\n",
        "\n",
        "### Conclusions:\n",
        "\n",
        "Given the current available data, **applying a variable window size (VWS) approach will not be of great benefit**; considering the great species diversity and insufficient samples, trying to fit and apply a unique function will likely result in poor generalization.\n",
        "\n",
        "In this case, by fitting a linear regression model to the sample data, the obtained **r-squared value was 0.037.**\n",
        "\n",
        "In order to continue with the ultimate project goal (learning to work with forest LiDAR data), I will proceed by applying a Fixed Window Size (FWS) approach."
      ]
    },
    {
      "cell_type": "markdown",
      "metadata": {
        "id": "eDFEBPLWgYrL"
      },
      "source": [
        "#### Data Uploading & Library Importation:"
      ]
    },
    {
      "cell_type": "code",
      "execution_count": null,
      "metadata": {
        "colab": {
          "base_uri": "https://localhost:8080/",
          "height": 240
        },
        "id": "9iUb9mBueUMv",
        "outputId": "54834f76-5d6b-4aa5-f6d4-ce94ee30f3bd"
      },
      "outputs": [
        {
          "data": {
            "text/html": [
              "\n",
              "  <div id=\"df-7670e5c2-75b5-42f2-bd2a-6e1f36d137ff\">\n",
              "    <div class=\"colab-df-container\">\n",
              "      <div>\n",
              "<style scoped>\n",
              "    .dataframe tbody tr th:only-of-type {\n",
              "        vertical-align: middle;\n",
              "    }\n",
              "\n",
              "    .dataframe tbody tr th {\n",
              "        vertical-align: top;\n",
              "    }\n",
              "\n",
              "    .dataframe thead th {\n",
              "        text-align: right;\n",
              "    }\n",
              "</style>\n",
              "<table border=\"1\" class=\"dataframe\">\n",
              "  <thead>\n",
              "    <tr style=\"text-align: right;\">\n",
              "      <th></th>\n",
              "      <th>area</th>\n",
              "      <th>plot</th>\n",
              "      <th>tree</th>\n",
              "      <th>common.name</th>\n",
              "      <th>scientific.name</th>\n",
              "      <th>family.name</th>\n",
              "      <th>type</th>\n",
              "      <th>DBH.2015</th>\n",
              "      <th>Dead.2015</th>\n",
              "      <th>D.class.2015</th>\n",
              "      <th>...</th>\n",
              "      <th>RN.2015</th>\n",
              "      <th>RS.2015</th>\n",
              "      <th>RE.2015</th>\n",
              "      <th>RW.2015</th>\n",
              "      <th>date.2015</th>\n",
              "      <th>DBH.2018</th>\n",
              "      <th>Dead.2018</th>\n",
              "      <th>date.2018</th>\n",
              "      <th>UTM.Easting</th>\n",
              "      <th>UTM.Northing</th>\n",
              "    </tr>\n",
              "  </thead>\n",
              "  <tbody>\n",
              "    <tr>\n",
              "      <th>1522</th>\n",
              "      <td>ANA_A01</td>\n",
              "      <td>13</td>\n",
              "      <td>019b</td>\n",
              "      <td>acariquara</td>\n",
              "      <td>Minquartia guianensis</td>\n",
              "      <td>Olacaceae</td>\n",
              "      <td>O</td>\n",
              "      <td>11.5</td>\n",
              "      <td>False</td>\n",
              "      <td>NaN</td>\n",
              "      <td>...</td>\n",
              "      <td>NaN</td>\n",
              "      <td>NaN</td>\n",
              "      <td>NaN</td>\n",
              "      <td>NaN</td>\n",
              "      <td>20150714.0</td>\n",
              "      <td>12.0</td>\n",
              "      <td>False</td>\n",
              "      <td>20180911</td>\n",
              "      <td>723398.6249</td>\n",
              "      <td>9627422.784</td>\n",
              "    </tr>\n",
              "    <tr>\n",
              "      <th>1422</th>\n",
              "      <td>ANA_A01</td>\n",
              "      <td>12</td>\n",
              "      <td>364a</td>\n",
              "      <td>abiurana vermelha</td>\n",
              "      <td>Pouteria gongrijpii</td>\n",
              "      <td>Sapotaceae</td>\n",
              "      <td>O</td>\n",
              "      <td>11.4</td>\n",
              "      <td>False</td>\n",
              "      <td>NaN</td>\n",
              "      <td>...</td>\n",
              "      <td>NaN</td>\n",
              "      <td>NaN</td>\n",
              "      <td>NaN</td>\n",
              "      <td>NaN</td>\n",
              "      <td>20150314.0</td>\n",
              "      <td>12.4</td>\n",
              "      <td>False</td>\n",
              "      <td>20180908</td>\n",
              "      <td>722898.3068</td>\n",
              "      <td>9627816.600</td>\n",
              "    </tr>\n",
              "  </tbody>\n",
              "</table>\n",
              "<p>2 rows × 22 columns</p>\n",
              "</div>\n",
              "      <button class=\"colab-df-convert\" onclick=\"convertToInteractive('df-7670e5c2-75b5-42f2-bd2a-6e1f36d137ff')\"\n",
              "              title=\"Convert this dataframe to an interactive table.\"\n",
              "              style=\"display:none;\">\n",
              "        \n",
              "  <svg xmlns=\"http://www.w3.org/2000/svg\" height=\"24px\"viewBox=\"0 0 24 24\"\n",
              "       width=\"24px\">\n",
              "    <path d=\"M0 0h24v24H0V0z\" fill=\"none\"/>\n",
              "    <path d=\"M18.56 5.44l.94 2.06.94-2.06 2.06-.94-2.06-.94-.94-2.06-.94 2.06-2.06.94zm-11 1L8.5 8.5l.94-2.06 2.06-.94-2.06-.94L8.5 2.5l-.94 2.06-2.06.94zm10 10l.94 2.06.94-2.06 2.06-.94-2.06-.94-.94-2.06-.94 2.06-2.06.94z\"/><path d=\"M17.41 7.96l-1.37-1.37c-.4-.4-.92-.59-1.43-.59-.52 0-1.04.2-1.43.59L10.3 9.45l-7.72 7.72c-.78.78-.78 2.05 0 2.83L4 21.41c.39.39.9.59 1.41.59.51 0 1.02-.2 1.41-.59l7.78-7.78 2.81-2.81c.8-.78.8-2.07 0-2.86zM5.41 20L4 18.59l7.72-7.72 1.47 1.35L5.41 20z\"/>\n",
              "  </svg>\n",
              "      </button>\n",
              "      \n",
              "  <style>\n",
              "    .colab-df-container {\n",
              "      display:flex;\n",
              "      flex-wrap:wrap;\n",
              "      gap: 12px;\n",
              "    }\n",
              "\n",
              "    .colab-df-convert {\n",
              "      background-color: #E8F0FE;\n",
              "      border: none;\n",
              "      border-radius: 50%;\n",
              "      cursor: pointer;\n",
              "      display: none;\n",
              "      fill: #1967D2;\n",
              "      height: 32px;\n",
              "      padding: 0 0 0 0;\n",
              "      width: 32px;\n",
              "    }\n",
              "\n",
              "    .colab-df-convert:hover {\n",
              "      background-color: #E2EBFA;\n",
              "      box-shadow: 0px 1px 2px rgba(60, 64, 67, 0.3), 0px 1px 3px 1px rgba(60, 64, 67, 0.15);\n",
              "      fill: #174EA6;\n",
              "    }\n",
              "\n",
              "    [theme=dark] .colab-df-convert {\n",
              "      background-color: #3B4455;\n",
              "      fill: #D2E3FC;\n",
              "    }\n",
              "\n",
              "    [theme=dark] .colab-df-convert:hover {\n",
              "      background-color: #434B5C;\n",
              "      box-shadow: 0px 1px 3px 1px rgba(0, 0, 0, 0.15);\n",
              "      filter: drop-shadow(0px 1px 2px rgba(0, 0, 0, 0.3));\n",
              "      fill: #FFFFFF;\n",
              "    }\n",
              "  </style>\n",
              "\n",
              "      <script>\n",
              "        const buttonEl =\n",
              "          document.querySelector('#df-7670e5c2-75b5-42f2-bd2a-6e1f36d137ff button.colab-df-convert');\n",
              "        buttonEl.style.display =\n",
              "          google.colab.kernel.accessAllowed ? 'block' : 'none';\n",
              "\n",
              "        async function convertToInteractive(key) {\n",
              "          const element = document.querySelector('#df-7670e5c2-75b5-42f2-bd2a-6e1f36d137ff');\n",
              "          const dataTable =\n",
              "            await google.colab.kernel.invokeFunction('convertToInteractive',\n",
              "                                                     [key], {});\n",
              "          if (!dataTable) return;\n",
              "\n",
              "          const docLinkHtml = 'Like what you see? Visit the ' +\n",
              "            '<a target=\"_blank\" href=https://colab.research.google.com/notebooks/data_table.ipynb>data table notebook</a>'\n",
              "            + ' to learn more about interactive tables.';\n",
              "          element.innerHTML = '';\n",
              "          dataTable['output_type'] = 'display_data';\n",
              "          await google.colab.output.renderOutput(dataTable, element);\n",
              "          const docLink = document.createElement('div');\n",
              "          docLink.innerHTML = docLinkHtml;\n",
              "          element.appendChild(docLink);\n",
              "        }\n",
              "      </script>\n",
              "    </div>\n",
              "  </div>\n",
              "  "
            ],
            "text/plain": [
              "         area  plot  tree        common.name        scientific.name  \\\n",
              "1522  ANA_A01    13  019b         acariquara  Minquartia guianensis   \n",
              "1422  ANA_A01    12  364a  abiurana vermelha    Pouteria gongrijpii   \n",
              "\n",
              "     family.name type  DBH.2015 Dead.2015  D.class.2015  ...  RN.2015  \\\n",
              "1522   Olacaceae    O      11.5     False           NaN  ...      NaN   \n",
              "1422  Sapotaceae    O      11.4     False           NaN  ...      NaN   \n",
              "\n",
              "      RS.2015 RE.2015 RW.2015   date.2015 DBH.2018  Dead.2018  date.2018  \\\n",
              "1522      NaN     NaN     NaN  20150714.0     12.0      False   20180911   \n",
              "1422      NaN     NaN     NaN  20150314.0     12.4      False   20180908   \n",
              "\n",
              "      UTM.Easting  UTM.Northing  \n",
              "1522  723398.6249   9627422.784  \n",
              "1422  722898.3068   9627816.600  \n",
              "\n",
              "[2 rows x 22 columns]"
            ]
          },
          "execution_count": 24,
          "metadata": {},
          "output_type": "execute_result"
        }
      ],
      "source": [
        "from google.colab import drive\n",
        "drive.mount('/content/drive/')\n",
        "\n",
        "import pandas as pd\n",
        "import numpy as np\n",
        "\n",
        "import plotly.express as px\n",
        "\n",
        "from sklearn.linear_model import LinearRegression\n",
        "from sklearn.metrics import r2_score\n",
        "\n",
        "df = pd.read_csv(\"/content/drive/MyDrive/Pachama/Sustainable Landscapes data/Inventory data/ANA_A01_2015_2018_Inventory_delivery.csv\",encoding='ISO-8859-1')\n",
        "df.sample(2)"
      ]
    },
    {
      "cell_type": "code",
      "execution_count": null,
      "metadata": {
        "colab": {
          "base_uri": "https://localhost:8080/"
        },
        "id": "2NsHPep5St6i",
        "outputId": "e10f107f-4497-471f-8ac8-44a96f359106"
      },
      "outputs": [
        {
          "data": {
            "text/plain": [
              "area                object\n",
              "plot                 int64\n",
              "tree                object\n",
              "common.name         object\n",
              "scientific.name     object\n",
              "family.name         object\n",
              "type                object\n",
              "DBH.2015           float64\n",
              "Dead.2015           object\n",
              "D.class.2015       float64\n",
              "Hcom.2015          float64\n",
              "Htot.2015          float64\n",
              "RN.2015             object\n",
              "RS.2015             object\n",
              "RE.2015             object\n",
              "RW.2015             object\n",
              "date.2015          float64\n",
              "DBH.2018           float64\n",
              "Dead.2018             bool\n",
              "date.2018            int64\n",
              "UTM.Easting        float64\n",
              "UTM.Northing       float64\n",
              "dtype: object"
            ]
          },
          "execution_count": 85,
          "metadata": {},
          "output_type": "execute_result"
        }
      ],
      "source": [
        "df.dtypes"
      ]
    },
    {
      "cell_type": "markdown",
      "metadata": {
        "id": "jVy7koAifivf"
      },
      "source": [
        "### Coordinate Clipping:"
      ]
    },
    {
      "cell_type": "code",
      "execution_count": null,
      "metadata": {
        "colab": {
          "base_uri": "https://localhost:8080/"
        },
        "id": "_zKf1Al0fZaL",
        "outputId": "b4f24cc2-6add-4cda-928c-8e1b7723705c"
      },
      "outputs": [
        {
          "name": "stdout",
          "output_type": "stream",
          "text": [
            "Western coordinate 721670.588\n",
            "Eastern coordinate 723438.7275\n",
            "Southern coordinate 9627173.853\n",
            "Northern coordinate 9629421.855\n"
          ]
        }
      ],
      "source": [
        "# Obtain the inventory geographic boundaries\n",
        "print(\"Western coordinate\", df['UTM.Easting'].min())\n",
        "print(\"Eastern coordinate\", df['UTM.Easting'].max())\n",
        "print(\"Southern coordinate\", df['UTM.Northing'].min())\n",
        "print(\"Northern coordinate\", df['UTM.Northing'].max())"
      ]
    },
    {
      "cell_type": "code",
      "execution_count": null,
      "metadata": {
        "id": "2yamEE3cCnSM"
      },
      "outputs": [],
      "source": [
        "### Clip coordinates to fit .las file boundaries\n",
        "df = df[(df['UTM.Easting'] >= 721917.4) & (df['UTM.Easting'] <= 722917.4)]\n",
        "df = df[(df['UTM.Northing'] >= 9627871) & (df['UTM.Northing'] <= 9628871)]"
      ]
    },
    {
      "cell_type": "markdown",
      "metadata": {
        "id": "dRX0g0BWfoKr"
      },
      "source": [
        "### Basic Insights Exploration:"
      ]
    },
    {
      "cell_type": "code",
      "execution_count": null,
      "metadata": {
        "colab": {
          "base_uri": "https://localhost:8080/"
        },
        "id": "Z33l2O7YlAAm",
        "outputId": "ed58e310-88ed-496b-d83d-2993c3417c32"
      },
      "outputs": [
        {
          "name": "stdout",
          "output_type": "stream",
          "text": [
            "Total number of trees on the inventory: 1168\n",
            "Average trees per squared meter: 0.0146\n",
            "Total alive trees:  1080\n",
            "Percentage of living trees in inventory: 92.47%\n"
          ]
        }
      ],
      "source": [
        "print(\"Total number of trees on the inventory:\", df.shape[0])\n",
        "print(\"Average trees per squared meter:\", df.shape[0]/80000)\n",
        "print(\"Total alive trees: \", df[df['Dead.2015']==False].shape[0])\n",
        "print(\"Percentage of living trees in inventory:\", str(round(((df[df['Dead.2015']==False].shape[0]/df.shape[0])*100),2))+\"%\")"
      ]
    },
    {
      "cell_type": "code",
      "execution_count": null,
      "metadata": {
        "colab": {
          "base_uri": "https://localhost:8080/"
        },
        "id": "JEo2h5Dif2lw",
        "outputId": "b84bcd6b-e2db-417e-cb0e-1c74a5e2e6fd"
      },
      "outputs": [
        {
          "name": "stdout",
          "output_type": "stream",
          "text": [
            "Total different species contained: 172\n"
          ]
        }
      ],
      "source": [
        "print(\"Total different species contained:\", df['scientific.name'].unique().shape[0])"
      ]
    },
    {
      "cell_type": "markdown",
      "metadata": {
        "id": "AoAWyJQ2f5R7"
      },
      "source": [
        "### Nan Handling:"
      ]
    },
    {
      "cell_type": "code",
      "execution_count": null,
      "metadata": {
        "colab": {
          "base_uri": "https://localhost:8080/",
          "height": 595
        },
        "id": "cymSALB5jVns",
        "outputId": "c1ad23a7-cc25-4c39-865d-c53f5e842cc1"
      },
      "outputs": [
        {
          "data": {
            "text/html": [
              "\n",
              "  <div id=\"df-d72b256c-a827-4a25-b85b-ef5bdb20deb7\">\n",
              "    <div class=\"colab-df-container\">\n",
              "      <div>\n",
              "<style scoped>\n",
              "    .dataframe tbody tr th:only-of-type {\n",
              "        vertical-align: middle;\n",
              "    }\n",
              "\n",
              "    .dataframe tbody tr th {\n",
              "        vertical-align: top;\n",
              "    }\n",
              "\n",
              "    .dataframe thead th {\n",
              "        text-align: right;\n",
              "    }\n",
              "</style>\n",
              "<table border=\"1\" class=\"dataframe\">\n",
              "  <thead>\n",
              "    <tr style=\"text-align: right;\">\n",
              "      <th></th>\n",
              "      <th>area</th>\n",
              "      <th>plot</th>\n",
              "      <th>tree</th>\n",
              "      <th>common.name</th>\n",
              "      <th>scientific.name</th>\n",
              "      <th>family.name</th>\n",
              "      <th>DBH.2015</th>\n",
              "      <th>Dead.2015</th>\n",
              "      <th>D.class.2015</th>\n",
              "      <th>Hcom.2015</th>\n",
              "      <th>...</th>\n",
              "      <th>RN.2015</th>\n",
              "      <th>RS.2015</th>\n",
              "      <th>RE.2015</th>\n",
              "      <th>RW.2015</th>\n",
              "      <th>date.2015</th>\n",
              "      <th>DBH.2018</th>\n",
              "      <th>Dead.2018</th>\n",
              "      <th>date.2018</th>\n",
              "      <th>UTM.Easting</th>\n",
              "      <th>UTM.Northing</th>\n",
              "    </tr>\n",
              "  </thead>\n",
              "  <tbody>\n",
              "    <tr>\n",
              "      <th>2069</th>\n",
              "      <td>ANA_A01</td>\n",
              "      <td>17</td>\n",
              "      <td>040a</td>\n",
              "      <td>piquiarana</td>\n",
              "      <td>Caryocar glabrum</td>\n",
              "      <td>Caryocaraceae</td>\n",
              "      <td>110.0</td>\n",
              "      <td>False</td>\n",
              "      <td>NaN</td>\n",
              "      <td>21.00</td>\n",
              "      <td>...</td>\n",
              "      <td>14.8</td>\n",
              "      <td>12.2</td>\n",
              "      <td>16.3</td>\n",
              "      <td>11.8</td>\n",
              "      <td>20150318.0</td>\n",
              "      <td>157.6</td>\n",
              "      <td>False</td>\n",
              "      <td>20180908</td>\n",
              "      <td>722603.9400</td>\n",
              "      <td>9628277.166</td>\n",
              "    </tr>\n",
              "    <tr>\n",
              "      <th>2618</th>\n",
              "      <td>ANA_A01</td>\n",
              "      <td>21</td>\n",
              "      <td>062a</td>\n",
              "      <td>macaranduba</td>\n",
              "      <td>Manilkara huberi</td>\n",
              "      <td>Sapotaceae</td>\n",
              "      <td>90.0</td>\n",
              "      <td>False</td>\n",
              "      <td>NaN</td>\n",
              "      <td>36.55</td>\n",
              "      <td>...</td>\n",
              "      <td>8.6</td>\n",
              "      <td>10.3</td>\n",
              "      <td>10.3</td>\n",
              "      <td>8.6</td>\n",
              "      <td>20150319.0</td>\n",
              "      <td>95.5</td>\n",
              "      <td>False</td>\n",
              "      <td>20180910</td>\n",
              "      <td>722091.3321</td>\n",
              "      <td>9628533.359</td>\n",
              "    </tr>\n",
              "    <tr>\n",
              "      <th>3591</th>\n",
              "      <td>ANA_A01</td>\n",
              "      <td>30</td>\n",
              "      <td>063a</td>\n",
              "      <td>guajara-bolacha</td>\n",
              "      <td>Pouteria oppositifolia</td>\n",
              "      <td>Sapotaceae</td>\n",
              "      <td>56.8</td>\n",
              "      <td>False</td>\n",
              "      <td>NaN</td>\n",
              "      <td>24.56</td>\n",
              "      <td>...</td>\n",
              "      <td>7.2</td>\n",
              "      <td>6.8</td>\n",
              "      <td>2</td>\n",
              "      <td>12</td>\n",
              "      <td>20150717.0</td>\n",
              "      <td>NaN</td>\n",
              "      <td>True</td>\n",
              "      <td>20180912</td>\n",
              "      <td>722904.8440</td>\n",
              "      <td>9628853.508</td>\n",
              "    </tr>\n",
              "    <tr>\n",
              "      <th>2283</th>\n",
              "      <td>ANA_A01</td>\n",
              "      <td>19</td>\n",
              "      <td>144a</td>\n",
              "      <td>abiurana branca</td>\n",
              "      <td>Pouteria guianensis</td>\n",
              "      <td>Sapotaceae</td>\n",
              "      <td>56.0</td>\n",
              "      <td>False</td>\n",
              "      <td>NaN</td>\n",
              "      <td>31.92</td>\n",
              "      <td>...</td>\n",
              "      <td>5.2</td>\n",
              "      <td>5.2</td>\n",
              "      <td>4.1</td>\n",
              "      <td>6.2</td>\n",
              "      <td>20150318.0</td>\n",
              "      <td>55.7</td>\n",
              "      <td>False</td>\n",
              "      <td>20180908</td>\n",
              "      <td>722615.7693</td>\n",
              "      <td>9628539.145</td>\n",
              "    </tr>\n",
              "    <tr>\n",
              "      <th>825</th>\n",
              "      <td>ANA_A01</td>\n",
              "      <td>7</td>\n",
              "      <td>132b</td>\n",
              "      <td>goiabao</td>\n",
              "      <td>Pradosia cochlearia</td>\n",
              "      <td>Sapotaceae</td>\n",
              "      <td>57.0</td>\n",
              "      <td>False</td>\n",
              "      <td>NaN</td>\n",
              "      <td>26.13</td>\n",
              "      <td>...</td>\n",
              "      <td>6.7</td>\n",
              "      <td>4.3</td>\n",
              "      <td>5.2</td>\n",
              "      <td>4.8</td>\n",
              "      <td>20150316.0</td>\n",
              "      <td>57.6</td>\n",
              "      <td>False</td>\n",
              "      <td>20180905</td>\n",
              "      <td>722337.4350</td>\n",
              "      <td>9628029.724</td>\n",
              "    </tr>\n",
              "    <tr>\n",
              "      <th>2427</th>\n",
              "      <td>ANA_A01</td>\n",
              "      <td>20</td>\n",
              "      <td>210b</td>\n",
              "      <td>goiabao</td>\n",
              "      <td>Pradosia cochlearia</td>\n",
              "      <td>Sapotaceae</td>\n",
              "      <td>50.0</td>\n",
              "      <td>False</td>\n",
              "      <td>NaN</td>\n",
              "      <td>28.09</td>\n",
              "      <td>...</td>\n",
              "      <td>6.2</td>\n",
              "      <td>5.2</td>\n",
              "      <td>4.1</td>\n",
              "      <td>5.3</td>\n",
              "      <td>20150318.0</td>\n",
              "      <td>50.0</td>\n",
              "      <td>False</td>\n",
              "      <td>20180908</td>\n",
              "      <td>722642.8105</td>\n",
              "      <td>9628708.488</td>\n",
              "    </tr>\n",
              "    <tr>\n",
              "      <th>2483</th>\n",
              "      <td>ANA_A01</td>\n",
              "      <td>20</td>\n",
              "      <td>244b</td>\n",
              "      <td>abiurana branca</td>\n",
              "      <td>Pouteria guianensis</td>\n",
              "      <td>Sapotaceae</td>\n",
              "      <td>59.0</td>\n",
              "      <td>False</td>\n",
              "      <td>NaN</td>\n",
              "      <td>30.68</td>\n",
              "      <td>...</td>\n",
              "      <td>5.3</td>\n",
              "      <td>4.1</td>\n",
              "      <td>6.2</td>\n",
              "      <td>5.5</td>\n",
              "      <td>20150318.0</td>\n",
              "      <td>50.3</td>\n",
              "      <td>False</td>\n",
              "      <td>20180908</td>\n",
              "      <td>722653.6433</td>\n",
              "      <td>9628714.808</td>\n",
              "    </tr>\n",
              "    <tr>\n",
              "      <th>2305</th>\n",
              "      <td>ANA_A01</td>\n",
              "      <td>19</td>\n",
              "      <td>155a</td>\n",
              "      <td>inga vermelho</td>\n",
              "      <td>Inga alba</td>\n",
              "      <td>Fabaceae</td>\n",
              "      <td>68.0</td>\n",
              "      <td>False</td>\n",
              "      <td>NaN</td>\n",
              "      <td>25.97</td>\n",
              "      <td>...</td>\n",
              "      <td>6.7</td>\n",
              "      <td>7.8</td>\n",
              "      <td>6</td>\n",
              "      <td>6.8</td>\n",
              "      <td>20150318.0</td>\n",
              "      <td>67.7</td>\n",
              "      <td>False</td>\n",
              "      <td>20180908</td>\n",
              "      <td>722611.4201</td>\n",
              "      <td>9628567.887</td>\n",
              "    </tr>\n",
              "    <tr>\n",
              "      <th>674</th>\n",
              "      <td>ANA_A01</td>\n",
              "      <td>6</td>\n",
              "      <td>059b</td>\n",
              "      <td>castanha-sapucaia</td>\n",
              "      <td>Lecythis pisonis</td>\n",
              "      <td>Lecythidaceae</td>\n",
              "      <td>80.0</td>\n",
              "      <td>False</td>\n",
              "      <td>NaN</td>\n",
              "      <td>32.17</td>\n",
              "      <td>...</td>\n",
              "      <td>6.8</td>\n",
              "      <td>7.9</td>\n",
              "      <td>8.6</td>\n",
              "      <td>9.2</td>\n",
              "      <td>20150316.0</td>\n",
              "      <td>132.1</td>\n",
              "      <td>False</td>\n",
              "      <td>20180907</td>\n",
              "      <td>722354.5157</td>\n",
              "      <td>9627874.569</td>\n",
              "    </tr>\n",
              "    <tr>\n",
              "      <th>855</th>\n",
              "      <td>ANA_A01</td>\n",
              "      <td>8</td>\n",
              "      <td>142a</td>\n",
              "      <td>castanha-do-para</td>\n",
              "      <td>Bertholletia excelsa</td>\n",
              "      <td>Lecythidaceae</td>\n",
              "      <td>87.2</td>\n",
              "      <td>False</td>\n",
              "      <td>NaN</td>\n",
              "      <td>31.42</td>\n",
              "      <td>...</td>\n",
              "      <td>10.0</td>\n",
              "      <td>13.4</td>\n",
              "      <td>11.7</td>\n",
              "      <td>7.7</td>\n",
              "      <td>20150316.0</td>\n",
              "      <td>89.8</td>\n",
              "      <td>False</td>\n",
              "      <td>20180905</td>\n",
              "      <td>722306.4868</td>\n",
              "      <td>9628153.245</td>\n",
              "    </tr>\n",
              "  </tbody>\n",
              "</table>\n",
              "<p>10 rows × 21 columns</p>\n",
              "</div>\n",
              "      <button class=\"colab-df-convert\" onclick=\"convertToInteractive('df-d72b256c-a827-4a25-b85b-ef5bdb20deb7')\"\n",
              "              title=\"Convert this dataframe to an interactive table.\"\n",
              "              style=\"display:none;\">\n",
              "        \n",
              "  <svg xmlns=\"http://www.w3.org/2000/svg\" height=\"24px\"viewBox=\"0 0 24 24\"\n",
              "       width=\"24px\">\n",
              "    <path d=\"M0 0h24v24H0V0z\" fill=\"none\"/>\n",
              "    <path d=\"M18.56 5.44l.94 2.06.94-2.06 2.06-.94-2.06-.94-.94-2.06-.94 2.06-2.06.94zm-11 1L8.5 8.5l.94-2.06 2.06-.94-2.06-.94L8.5 2.5l-.94 2.06-2.06.94zm10 10l.94 2.06.94-2.06 2.06-.94-2.06-.94-.94-2.06-.94 2.06-2.06.94z\"/><path d=\"M17.41 7.96l-1.37-1.37c-.4-.4-.92-.59-1.43-.59-.52 0-1.04.2-1.43.59L10.3 9.45l-7.72 7.72c-.78.78-.78 2.05 0 2.83L4 21.41c.39.39.9.59 1.41.59.51 0 1.02-.2 1.41-.59l7.78-7.78 2.81-2.81c.8-.78.8-2.07 0-2.86zM5.41 20L4 18.59l7.72-7.72 1.47 1.35L5.41 20z\"/>\n",
              "  </svg>\n",
              "      </button>\n",
              "      \n",
              "  <style>\n",
              "    .colab-df-container {\n",
              "      display:flex;\n",
              "      flex-wrap:wrap;\n",
              "      gap: 12px;\n",
              "    }\n",
              "\n",
              "    .colab-df-convert {\n",
              "      background-color: #E8F0FE;\n",
              "      border: none;\n",
              "      border-radius: 50%;\n",
              "      cursor: pointer;\n",
              "      display: none;\n",
              "      fill: #1967D2;\n",
              "      height: 32px;\n",
              "      padding: 0 0 0 0;\n",
              "      width: 32px;\n",
              "    }\n",
              "\n",
              "    .colab-df-convert:hover {\n",
              "      background-color: #E2EBFA;\n",
              "      box-shadow: 0px 1px 2px rgba(60, 64, 67, 0.3), 0px 1px 3px 1px rgba(60, 64, 67, 0.15);\n",
              "      fill: #174EA6;\n",
              "    }\n",
              "\n",
              "    [theme=dark] .colab-df-convert {\n",
              "      background-color: #3B4455;\n",
              "      fill: #D2E3FC;\n",
              "    }\n",
              "\n",
              "    [theme=dark] .colab-df-convert:hover {\n",
              "      background-color: #434B5C;\n",
              "      box-shadow: 0px 1px 3px 1px rgba(0, 0, 0, 0.15);\n",
              "      filter: drop-shadow(0px 1px 2px rgba(0, 0, 0, 0.3));\n",
              "      fill: #FFFFFF;\n",
              "    }\n",
              "  </style>\n",
              "\n",
              "      <script>\n",
              "        const buttonEl =\n",
              "          document.querySelector('#df-d72b256c-a827-4a25-b85b-ef5bdb20deb7 button.colab-df-convert');\n",
              "        buttonEl.style.display =\n",
              "          google.colab.kernel.accessAllowed ? 'block' : 'none';\n",
              "\n",
              "        async function convertToInteractive(key) {\n",
              "          const element = document.querySelector('#df-d72b256c-a827-4a25-b85b-ef5bdb20deb7');\n",
              "          const dataTable =\n",
              "            await google.colab.kernel.invokeFunction('convertToInteractive',\n",
              "                                                     [key], {});\n",
              "          if (!dataTable) return;\n",
              "\n",
              "          const docLinkHtml = 'Like what you see? Visit the ' +\n",
              "            '<a target=\"_blank\" href=https://colab.research.google.com/notebooks/data_table.ipynb>data table notebook</a>'\n",
              "            + ' to learn more about interactive tables.';\n",
              "          element.innerHTML = '';\n",
              "          dataTable['output_type'] = 'display_data';\n",
              "          await google.colab.output.renderOutput(dataTable, element);\n",
              "          const docLink = document.createElement('div');\n",
              "          docLink.innerHTML = docLinkHtml;\n",
              "          element.appendChild(docLink);\n",
              "        }\n",
              "      </script>\n",
              "    </div>\n",
              "  </div>\n",
              "  "
            ],
            "text/plain": [
              "         area  plot  tree        common.name         scientific.name  \\\n",
              "2069  ANA_A01    17  040a         piquiarana        Caryocar glabrum   \n",
              "2618  ANA_A01    21  062a        macaranduba        Manilkara huberi   \n",
              "3591  ANA_A01    30  063a    guajara-bolacha  Pouteria oppositifolia   \n",
              "2283  ANA_A01    19  144a    abiurana branca     Pouteria guianensis   \n",
              "825   ANA_A01     7  132b            goiabao     Pradosia cochlearia   \n",
              "2427  ANA_A01    20  210b            goiabao     Pradosia cochlearia   \n",
              "2483  ANA_A01    20  244b    abiurana branca     Pouteria guianensis   \n",
              "2305  ANA_A01    19  155a      inga vermelho               Inga alba   \n",
              "674   ANA_A01     6  059b  castanha-sapucaia        Lecythis pisonis   \n",
              "855   ANA_A01     8  142a   castanha-do-para    Bertholletia excelsa   \n",
              "\n",
              "        family.name  DBH.2015 Dead.2015  D.class.2015  Hcom.2015  ...  \\\n",
              "2069  Caryocaraceae     110.0     False           NaN      21.00  ...   \n",
              "2618     Sapotaceae      90.0     False           NaN      36.55  ...   \n",
              "3591     Sapotaceae      56.8     False           NaN      24.56  ...   \n",
              "2283     Sapotaceae      56.0     False           NaN      31.92  ...   \n",
              "825      Sapotaceae      57.0     False           NaN      26.13  ...   \n",
              "2427     Sapotaceae      50.0     False           NaN      28.09  ...   \n",
              "2483     Sapotaceae      59.0     False           NaN      30.68  ...   \n",
              "2305       Fabaceae      68.0     False           NaN      25.97  ...   \n",
              "674   Lecythidaceae      80.0     False           NaN      32.17  ...   \n",
              "855   Lecythidaceae      87.2     False           NaN      31.42  ...   \n",
              "\n",
              "      RN.2015  RS.2015 RE.2015 RW.2015   date.2015  DBH.2018  Dead.2018  \\\n",
              "2069     14.8     12.2    16.3    11.8  20150318.0     157.6      False   \n",
              "2618      8.6     10.3    10.3     8.6  20150319.0      95.5      False   \n",
              "3591      7.2      6.8       2      12  20150717.0       NaN       True   \n",
              "2283      5.2      5.2     4.1     6.2  20150318.0      55.7      False   \n",
              "825       6.7      4.3     5.2     4.8  20150316.0      57.6      False   \n",
              "2427      6.2      5.2     4.1     5.3  20150318.0      50.0      False   \n",
              "2483      5.3      4.1     6.2     5.5  20150318.0      50.3      False   \n",
              "2305      6.7      7.8       6     6.8  20150318.0      67.7      False   \n",
              "674       6.8      7.9     8.6     9.2  20150316.0     132.1      False   \n",
              "855      10.0     13.4    11.7     7.7  20150316.0      89.8      False   \n",
              "\n",
              "      date.2018  UTM.Easting  UTM.Northing  \n",
              "2069   20180908  722603.9400   9628277.166  \n",
              "2618   20180910  722091.3321   9628533.359  \n",
              "3591   20180912  722904.8440   9628853.508  \n",
              "2283   20180908  722615.7693   9628539.145  \n",
              "825    20180905  722337.4350   9628029.724  \n",
              "2427   20180908  722642.8105   9628708.488  \n",
              "2483   20180908  722653.6433   9628714.808  \n",
              "2305   20180908  722611.4201   9628567.887  \n",
              "674    20180907  722354.5157   9627874.569  \n",
              "855    20180905  722306.4868   9628153.245  \n",
              "\n",
              "[10 rows x 21 columns]"
            ]
          },
          "execution_count": 89,
          "metadata": {},
          "output_type": "execute_result"
        }
      ],
      "source": [
        "### Drop all Nan values\n",
        "df2 = df.dropna(subset=['Hcom.2015','Htot.2015','RN.2015','RS.2015','RE.2015','RW.2015'], how='all').drop(columns=[\"type\"])\n",
        "\n",
        "### Filtering out reamining Nan values\n",
        "df2['RN.2015'] = pd.to_numeric(df['RN.2015'], errors='coerce')\n",
        "df2 = df2[pd.notnull(df2['RN.2015'])]\n",
        "df2 = df2[~df2['Hcom.2015'].isnull()]\n",
        "df2.sample(10)"
      ]
    },
    {
      "cell_type": "code",
      "execution_count": null,
      "metadata": {
        "colab": {
          "base_uri": "https://localhost:8080/"
        },
        "id": "MRRyNNu7sz9j",
        "outputId": "715aec04-98d3-4a2b-a5d8-c2d82d71f5a5"
      },
      "outputs": [
        {
          "data": {
            "text/plain": [
              "area                0\n",
              "plot                0\n",
              "tree                0\n",
              "common.name         1\n",
              "scientific.name     1\n",
              "family.name         1\n",
              "DBH.2015            0\n",
              "Dead.2015           0\n",
              "Hcom.2015           0\n",
              "Htot.2015           0\n",
              "RN.2015             0\n",
              "RS.2015             0\n",
              "RE.2015             0\n",
              "RW.2015             0\n",
              "date.2015           0\n",
              "DBH.2018           15\n",
              "Dead.2018           0\n",
              "date.2018           0\n",
              "UTM.Easting         0\n",
              "UTM.Northing        0\n",
              "dtype: int64"
            ]
          },
          "execution_count": 91,
          "metadata": {},
          "output_type": "execute_result"
        }
      ],
      "source": [
        "df2 = df2.drop(columns=[\"D.class.2015\"])\n",
        "df2.isnull().sum()"
      ]
    },
    {
      "cell_type": "markdown",
      "metadata": {
        "id": "7zR6vmaBf_iA"
      },
      "source": [
        "### Sample observed characteristics:"
      ]
    },
    {
      "cell_type": "code",
      "execution_count": null,
      "metadata": {
        "colab": {
          "base_uri": "https://localhost:8080/"
        },
        "id": "1-lI0uf7tMFl",
        "outputId": "77b37c65-d22d-4590-b7a1-3813a3e57c24"
      },
      "outputs": [
        {
          "data": {
            "text/plain": [
              "False    74\n",
              "Name: Dead.2015, dtype: int64"
            ]
          },
          "execution_count": 121,
          "metadata": {},
          "output_type": "execute_result"
        }
      ],
      "source": [
        "# Obtain total number of living trees with data to work in the sample\n",
        "df2['Dead.2015'].value_counts()"
      ]
    },
    {
      "cell_type": "code",
      "execution_count": null,
      "metadata": {
        "colab": {
          "base_uri": "https://localhost:8080/"
        },
        "id": "yQzzVrlEhGfb",
        "outputId": "4fc45c02-bb05-454f-deef-d0e3172b5303"
      },
      "outputs": [
        {
          "name": "stdout",
          "output_type": "stream",
          "text": [
            "Total different species contained: 40\n"
          ]
        }
      ],
      "source": [
        "# Obtain total number of species within the sample data\n",
        "print(\"Total different species contained:\", df2['scientific.name'].unique().shape[0])"
      ]
    },
    {
      "cell_type": "code",
      "execution_count": null,
      "metadata": {
        "colab": {
          "base_uri": "https://localhost:8080/"
        },
        "id": "hIXDCQ0Zsxl8",
        "outputId": "06904e31-85bf-448d-c86b-d46e031e3de3"
      },
      "outputs": [
        {
          "data": {
            "text/plain": [
              "(74, 21)"
            ]
          },
          "execution_count": 90,
          "metadata": {},
          "output_type": "execute_result"
        }
      ],
      "source": [
        "# Validate total number of registers in sample data\n",
        "df2.shape"
      ]
    },
    {
      "cell_type": "code",
      "execution_count": null,
      "metadata": {
        "colab": {
          "base_uri": "https://localhost:8080/"
        },
        "id": "mvvP2YEihN8W",
        "outputId": "bce2730b-1bbd-45e2-fd3a-e45397a71cfb"
      },
      "outputs": [
        {
          "data": {
            "text/plain": [
              "Pouteria guianensis             7\n",
              "Couratari stellata              5\n",
              "Caryocar glabrum                5\n",
              "Lecythis lurida                 4\n",
              "Manilkara huberi                4\n",
              "Tachigali paniculata            4\n",
              "Tachigali myrmecophila          3\n",
              "Terminalia amazonia             3\n",
              "Hevea brasiliensis              2\n",
              "Virola mollissima               2\n",
              "Eschweilera coriacea            2\n",
              "Maquira coriacea                2\n",
              "Bowdichia nitida                2\n",
              "Pradosia cochlearia             2\n",
              "Enterolobium schomburgkii       2\n",
              "Agonandra brasiliensis          1\n",
              "Virola elongata                 1\n",
              "Eschweilera parviflora          1\n",
              "Hymenaea parvifolia             1\n",
              "Dimorphandra macrostachya       1\n",
              "Jacaranda copaia                1\n",
              "Pouteria oppositifolia          1\n",
              "Coussarea brevicaulis           1\n",
              "Goupia glabra                   1\n",
              "Pouteria gongrijpii             1\n",
              "Rinorea guianensis              1\n",
              "Stryphnodendron pulcherrimum    1\n",
              "Mezilaurus itauba               1\n",
              "Inga alba                       1\n",
              "Inga marginata                  1\n",
              "Astronium graveolens            1\n",
              "Aspidosperma parvifolium        1\n",
              "Lecythis pisonis                1\n",
              "Anacardium spruceanum           1\n",
              "Tapirira guianensis             1\n",
              "Bertholletia excelsa            1\n",
              "Pseudopiptadenia suaveolens     1\n",
              "Schefflera morototoni           1\n",
              "Vochysia guianensis             1\n",
              "Name: scientific.name, dtype: int64"
            ]
          },
          "execution_count": 140,
          "metadata": {},
          "output_type": "execute_result"
        }
      ],
      "source": [
        "# Observing the number of repeated species to grasp the biodiversity in the sample\n",
        "df2['scientific.name'].value_counts()"
      ]
    },
    {
      "cell_type": "markdown",
      "metadata": {
        "id": "YXQWuCOjsWRj"
      },
      "source": [
        "> For the current dataset with a tree **population of 1080 living trees**, using the 74 trees with measurement data to create a sample will allow for estimating results with a **90% confidence level and a 9% margin of error**. However, it is important to consider that **this sample will only cover 23.25% of the total species**, and most of the observed species do not appear multiple times in the sample."
      ]
    },
    {
      "cell_type": "markdown",
      "metadata": {
        "id": "K4ydFq4qTvow"
      },
      "source": [
        "### Obtain Average Crown Size:"
      ]
    },
    {
      "cell_type": "code",
      "execution_count": null,
      "metadata": {
        "colab": {
          "base_uri": "https://localhost:8080/",
          "height": 112
        },
        "id": "ThRWTGIBTz_p",
        "outputId": "748c114e-1e3a-4f9d-defc-ad3912967e8b"
      },
      "outputs": [
        {
          "data": {
            "text/html": [
              "\n",
              "  <div id=\"df-79d99f3b-d5f3-4ac2-82c0-e6c9253b9a5f\">\n",
              "    <div class=\"colab-df-container\">\n",
              "      <div>\n",
              "<style scoped>\n",
              "    .dataframe tbody tr th:only-of-type {\n",
              "        vertical-align: middle;\n",
              "    }\n",
              "\n",
              "    .dataframe tbody tr th {\n",
              "        vertical-align: top;\n",
              "    }\n",
              "\n",
              "    .dataframe thead th {\n",
              "        text-align: right;\n",
              "    }\n",
              "</style>\n",
              "<table border=\"1\" class=\"dataframe\">\n",
              "  <thead>\n",
              "    <tr style=\"text-align: right;\">\n",
              "      <th></th>\n",
              "      <th>DBH.2015</th>\n",
              "      <th>Hcom.2015</th>\n",
              "      <th>Htot.2015</th>\n",
              "      <th>RN.2015</th>\n",
              "      <th>RS.2015</th>\n",
              "      <th>RE.2015</th>\n",
              "      <th>RW.2015</th>\n",
              "    </tr>\n",
              "  </thead>\n",
              "  <tbody>\n",
              "    <tr>\n",
              "      <th>774</th>\n",
              "      <td>68.0</td>\n",
              "      <td>13.98</td>\n",
              "      <td>26.41</td>\n",
              "      <td>15.7</td>\n",
              "      <td>5.1</td>\n",
              "      <td>4.2</td>\n",
              "      <td>5.2</td>\n",
              "    </tr>\n",
              "    <tr>\n",
              "      <th>2277</th>\n",
              "      <td>66.9</td>\n",
              "      <td>27.26</td>\n",
              "      <td>35.82</td>\n",
              "      <td>5.2</td>\n",
              "      <td>4.2</td>\n",
              "      <td>3.1</td>\n",
              "      <td>3.7</td>\n",
              "    </tr>\n",
              "  </tbody>\n",
              "</table>\n",
              "</div>\n",
              "      <button class=\"colab-df-convert\" onclick=\"convertToInteractive('df-79d99f3b-d5f3-4ac2-82c0-e6c9253b9a5f')\"\n",
              "              title=\"Convert this dataframe to an interactive table.\"\n",
              "              style=\"display:none;\">\n",
              "        \n",
              "  <svg xmlns=\"http://www.w3.org/2000/svg\" height=\"24px\"viewBox=\"0 0 24 24\"\n",
              "       width=\"24px\">\n",
              "    <path d=\"M0 0h24v24H0V0z\" fill=\"none\"/>\n",
              "    <path d=\"M18.56 5.44l.94 2.06.94-2.06 2.06-.94-2.06-.94-.94-2.06-.94 2.06-2.06.94zm-11 1L8.5 8.5l.94-2.06 2.06-.94-2.06-.94L8.5 2.5l-.94 2.06-2.06.94zm10 10l.94 2.06.94-2.06 2.06-.94-2.06-.94-.94-2.06-.94 2.06-2.06.94z\"/><path d=\"M17.41 7.96l-1.37-1.37c-.4-.4-.92-.59-1.43-.59-.52 0-1.04.2-1.43.59L10.3 9.45l-7.72 7.72c-.78.78-.78 2.05 0 2.83L4 21.41c.39.39.9.59 1.41.59.51 0 1.02-.2 1.41-.59l7.78-7.78 2.81-2.81c.8-.78.8-2.07 0-2.86zM5.41 20L4 18.59l7.72-7.72 1.47 1.35L5.41 20z\"/>\n",
              "  </svg>\n",
              "      </button>\n",
              "      \n",
              "  <style>\n",
              "    .colab-df-container {\n",
              "      display:flex;\n",
              "      flex-wrap:wrap;\n",
              "      gap: 12px;\n",
              "    }\n",
              "\n",
              "    .colab-df-convert {\n",
              "      background-color: #E8F0FE;\n",
              "      border: none;\n",
              "      border-radius: 50%;\n",
              "      cursor: pointer;\n",
              "      display: none;\n",
              "      fill: #1967D2;\n",
              "      height: 32px;\n",
              "      padding: 0 0 0 0;\n",
              "      width: 32px;\n",
              "    }\n",
              "\n",
              "    .colab-df-convert:hover {\n",
              "      background-color: #E2EBFA;\n",
              "      box-shadow: 0px 1px 2px rgba(60, 64, 67, 0.3), 0px 1px 3px 1px rgba(60, 64, 67, 0.15);\n",
              "      fill: #174EA6;\n",
              "    }\n",
              "\n",
              "    [theme=dark] .colab-df-convert {\n",
              "      background-color: #3B4455;\n",
              "      fill: #D2E3FC;\n",
              "    }\n",
              "\n",
              "    [theme=dark] .colab-df-convert:hover {\n",
              "      background-color: #434B5C;\n",
              "      box-shadow: 0px 1px 3px 1px rgba(0, 0, 0, 0.15);\n",
              "      filter: drop-shadow(0px 1px 2px rgba(0, 0, 0, 0.3));\n",
              "      fill: #FFFFFF;\n",
              "    }\n",
              "  </style>\n",
              "\n",
              "      <script>\n",
              "        const buttonEl =\n",
              "          document.querySelector('#df-79d99f3b-d5f3-4ac2-82c0-e6c9253b9a5f button.colab-df-convert');\n",
              "        buttonEl.style.display =\n",
              "          google.colab.kernel.accessAllowed ? 'block' : 'none';\n",
              "\n",
              "        async function convertToInteractive(key) {\n",
              "          const element = document.querySelector('#df-79d99f3b-d5f3-4ac2-82c0-e6c9253b9a5f');\n",
              "          const dataTable =\n",
              "            await google.colab.kernel.invokeFunction('convertToInteractive',\n",
              "                                                     [key], {});\n",
              "          if (!dataTable) return;\n",
              "\n",
              "          const docLinkHtml = 'Like what you see? Visit the ' +\n",
              "            '<a target=\"_blank\" href=https://colab.research.google.com/notebooks/data_table.ipynb>data table notebook</a>'\n",
              "            + ' to learn more about interactive tables.';\n",
              "          element.innerHTML = '';\n",
              "          dataTable['output_type'] = 'display_data';\n",
              "          await google.colab.output.renderOutput(dataTable, element);\n",
              "          const docLink = document.createElement('div');\n",
              "          docLink.innerHTML = docLinkHtml;\n",
              "          element.appendChild(docLink);\n",
              "        }\n",
              "      </script>\n",
              "    </div>\n",
              "  </div>\n",
              "  "
            ],
            "text/plain": [
              "      DBH.2015  Hcom.2015  Htot.2015  RN.2015  RS.2015  RE.2015  RW.2015\n",
              "774       68.0      13.98      26.41     15.7      5.1      4.2      5.2\n",
              "2277      66.9      27.26      35.82      5.2      4.2      3.1      3.7"
            ]
          },
          "execution_count": 131,
          "metadata": {},
          "output_type": "execute_result"
        }
      ],
      "source": [
        "# Filtering all columns that contain crown radius related data\n",
        "Window_size_calculation_df = df2.iloc[:, [6, 8, 9, 10, 11, 12, 13]]\n",
        "Window_size_calculation_df = Window_size_calculation_df.apply(pd.to_numeric)\n",
        "Window_size_calculation_df.sample(2)"
      ]
    },
    {
      "cell_type": "code",
      "execution_count": null,
      "metadata": {
        "id": "KzbkQ8CiUdOE"
      },
      "outputs": [],
      "source": [
        "def average_crown_diameter(row):\n",
        "  diameter_1 = row['RN.2015'] + row['RS.2015']\n",
        "  diameter_2 = row['RE.2015'] + row['RW.2015']\n",
        "  return (diameter_1+diameter_2)/2\n",
        "\n",
        "Window_size_calculation_df['avg_crown_size'] = Window_size_calculation_df.apply(average_crown_diameter, axis=1)"
      ]
    },
    {
      "cell_type": "code",
      "execution_count": null,
      "metadata": {
        "colab": {
          "base_uri": "https://localhost:8080/",
          "height": 112
        },
        "id": "LIcGoQVpUujJ",
        "outputId": "a61ed67b-a646-44d4-de8a-d6cce7cb4c3a"
      },
      "outputs": [
        {
          "data": {
            "text/html": [
              "\n",
              "  <div id=\"df-66125d2b-024c-4449-a0bc-924acac248a5\">\n",
              "    <div class=\"colab-df-container\">\n",
              "      <div>\n",
              "<style scoped>\n",
              "    .dataframe tbody tr th:only-of-type {\n",
              "        vertical-align: middle;\n",
              "    }\n",
              "\n",
              "    .dataframe tbody tr th {\n",
              "        vertical-align: top;\n",
              "    }\n",
              "\n",
              "    .dataframe thead th {\n",
              "        text-align: right;\n",
              "    }\n",
              "</style>\n",
              "<table border=\"1\" class=\"dataframe\">\n",
              "  <thead>\n",
              "    <tr style=\"text-align: right;\">\n",
              "      <th></th>\n",
              "      <th>DBH.2015</th>\n",
              "      <th>Hcom.2015</th>\n",
              "      <th>Htot.2015</th>\n",
              "      <th>RN.2015</th>\n",
              "      <th>RS.2015</th>\n",
              "      <th>RE.2015</th>\n",
              "      <th>RW.2015</th>\n",
              "      <th>avg_crown_size</th>\n",
              "    </tr>\n",
              "  </thead>\n",
              "  <tbody>\n",
              "    <tr>\n",
              "      <th>653</th>\n",
              "      <td>59.4</td>\n",
              "      <td>30.48</td>\n",
              "      <td>47.20</td>\n",
              "      <td>6.1</td>\n",
              "      <td>4.4</td>\n",
              "      <td>5.4</td>\n",
              "      <td>5.1</td>\n",
              "      <td>10.50</td>\n",
              "    </tr>\n",
              "    <tr>\n",
              "      <th>674</th>\n",
              "      <td>80.0</td>\n",
              "      <td>32.17</td>\n",
              "      <td>53.18</td>\n",
              "      <td>6.8</td>\n",
              "      <td>7.9</td>\n",
              "      <td>8.6</td>\n",
              "      <td>9.2</td>\n",
              "      <td>16.25</td>\n",
              "    </tr>\n",
              "  </tbody>\n",
              "</table>\n",
              "</div>\n",
              "      <button class=\"colab-df-convert\" onclick=\"convertToInteractive('df-66125d2b-024c-4449-a0bc-924acac248a5')\"\n",
              "              title=\"Convert this dataframe to an interactive table.\"\n",
              "              style=\"display:none;\">\n",
              "        \n",
              "  <svg xmlns=\"http://www.w3.org/2000/svg\" height=\"24px\"viewBox=\"0 0 24 24\"\n",
              "       width=\"24px\">\n",
              "    <path d=\"M0 0h24v24H0V0z\" fill=\"none\"/>\n",
              "    <path d=\"M18.56 5.44l.94 2.06.94-2.06 2.06-.94-2.06-.94-.94-2.06-.94 2.06-2.06.94zm-11 1L8.5 8.5l.94-2.06 2.06-.94-2.06-.94L8.5 2.5l-.94 2.06-2.06.94zm10 10l.94 2.06.94-2.06 2.06-.94-2.06-.94-.94-2.06-.94 2.06-2.06.94z\"/><path d=\"M17.41 7.96l-1.37-1.37c-.4-.4-.92-.59-1.43-.59-.52 0-1.04.2-1.43.59L10.3 9.45l-7.72 7.72c-.78.78-.78 2.05 0 2.83L4 21.41c.39.39.9.59 1.41.59.51 0 1.02-.2 1.41-.59l7.78-7.78 2.81-2.81c.8-.78.8-2.07 0-2.86zM5.41 20L4 18.59l7.72-7.72 1.47 1.35L5.41 20z\"/>\n",
              "  </svg>\n",
              "      </button>\n",
              "      \n",
              "  <style>\n",
              "    .colab-df-container {\n",
              "      display:flex;\n",
              "      flex-wrap:wrap;\n",
              "      gap: 12px;\n",
              "    }\n",
              "\n",
              "    .colab-df-convert {\n",
              "      background-color: #E8F0FE;\n",
              "      border: none;\n",
              "      border-radius: 50%;\n",
              "      cursor: pointer;\n",
              "      display: none;\n",
              "      fill: #1967D2;\n",
              "      height: 32px;\n",
              "      padding: 0 0 0 0;\n",
              "      width: 32px;\n",
              "    }\n",
              "\n",
              "    .colab-df-convert:hover {\n",
              "      background-color: #E2EBFA;\n",
              "      box-shadow: 0px 1px 2px rgba(60, 64, 67, 0.3), 0px 1px 3px 1px rgba(60, 64, 67, 0.15);\n",
              "      fill: #174EA6;\n",
              "    }\n",
              "\n",
              "    [theme=dark] .colab-df-convert {\n",
              "      background-color: #3B4455;\n",
              "      fill: #D2E3FC;\n",
              "    }\n",
              "\n",
              "    [theme=dark] .colab-df-convert:hover {\n",
              "      background-color: #434B5C;\n",
              "      box-shadow: 0px 1px 3px 1px rgba(0, 0, 0, 0.15);\n",
              "      filter: drop-shadow(0px 1px 2px rgba(0, 0, 0, 0.3));\n",
              "      fill: #FFFFFF;\n",
              "    }\n",
              "  </style>\n",
              "\n",
              "      <script>\n",
              "        const buttonEl =\n",
              "          document.querySelector('#df-66125d2b-024c-4449-a0bc-924acac248a5 button.colab-df-convert');\n",
              "        buttonEl.style.display =\n",
              "          google.colab.kernel.accessAllowed ? 'block' : 'none';\n",
              "\n",
              "        async function convertToInteractive(key) {\n",
              "          const element = document.querySelector('#df-66125d2b-024c-4449-a0bc-924acac248a5');\n",
              "          const dataTable =\n",
              "            await google.colab.kernel.invokeFunction('convertToInteractive',\n",
              "                                                     [key], {});\n",
              "          if (!dataTable) return;\n",
              "\n",
              "          const docLinkHtml = 'Like what you see? Visit the ' +\n",
              "            '<a target=\"_blank\" href=https://colab.research.google.com/notebooks/data_table.ipynb>data table notebook</a>'\n",
              "            + ' to learn more about interactive tables.';\n",
              "          element.innerHTML = '';\n",
              "          dataTable['output_type'] = 'display_data';\n",
              "          await google.colab.output.renderOutput(dataTable, element);\n",
              "          const docLink = document.createElement('div');\n",
              "          docLink.innerHTML = docLinkHtml;\n",
              "          element.appendChild(docLink);\n",
              "        }\n",
              "      </script>\n",
              "    </div>\n",
              "  </div>\n",
              "  "
            ],
            "text/plain": [
              "     DBH.2015  Hcom.2015  Htot.2015  RN.2015  RS.2015  RE.2015  RW.2015  \\\n",
              "653      59.4      30.48      47.20      6.1      4.4      5.4      5.1   \n",
              "674      80.0      32.17      53.18      6.8      7.9      8.6      9.2   \n",
              "\n",
              "     avg_crown_size  \n",
              "653           10.50  \n",
              "674           16.25  "
            ]
          },
          "execution_count": 133,
          "metadata": {},
          "output_type": "execute_result"
        }
      ],
      "source": [
        "Window_size_calculation_df.head(2)"
      ]
    },
    {
      "cell_type": "markdown",
      "metadata": {
        "id": "t1JpaIh8gLwW"
      },
      "source": [
        "### Obtain and Evaluate Linear Model:"
      ]
    },
    {
      "cell_type": "code",
      "execution_count": null,
      "metadata": {
        "colab": {
          "base_uri": "https://localhost:8080/",
          "height": 542
        },
        "id": "CsISZgZodJMK",
        "outputId": "38bf5f3c-9691-4e8d-a279-4f96126d8cbd"
      },
      "outputs": [
        {
          "data": {
            "text/html": [
              "<html>\n",
              "<head><meta charset=\"utf-8\" /></head>\n",
              "<body>\n",
              "    <div>            <script src=\"https://cdnjs.cloudflare.com/ajax/libs/mathjax/2.7.5/MathJax.js?config=TeX-AMS-MML_SVG\"></script><script type=\"text/javascript\">if (window.MathJax) {MathJax.Hub.Config({SVG: {font: \"STIX-Web\"}});}</script>                <script type=\"text/javascript\">window.PlotlyConfig = {MathJaxConfig: 'local'};</script>\n",
              "        <script src=\"https://cdn.plot.ly/plotly-2.8.3.min.js\"></script>                <div id=\"23cb55fe-8d21-4a8a-bd1a-5de231b158b9\" class=\"plotly-graph-div\" style=\"height:525px; width:100%;\"></div>            <script type=\"text/javascript\">                                    window.PLOTLYENV=window.PLOTLYENV || {};                                    if (document.getElementById(\"23cb55fe-8d21-4a8a-bd1a-5de231b158b9\")) {                    Plotly.newPlot(                        \"23cb55fe-8d21-4a8a-bd1a-5de231b158b9\",                        [{\"hovertemplate\":\"Htot.2015=%{x}<br>avg_crown_size=%{y}<extra></extra>\",\"legendgroup\":\"\",\"marker\":{\"color\":\"#636efa\",\"symbol\":\"circle\"},\"mode\":\"markers\",\"name\":\"\",\"orientation\":\"v\",\"showlegend\":false,\"x\":[47.2,53.18,41.42,37.36,39.49,26.41,45.67,33.36,36.87,43.65,33.35,36.25,48.04,33.49,33.87,41.1,37.79,38.39,36.14,36.54,51.57,36.32,41.64,35.75,43.46,46.16,33.88,33.36,39.92,45.16,30.87,35.82,41.68,46.81,38.87,41.7,31.8,38.73,47.76,40.98,39.33,50.83,50.83,50.71,53.5,47.25,41.89,39.35,42.9,37.98,42.94,32.31,45.46,41.19,43.23,52.53,52.53,42.73,40.78,35.41,37.89,40.62,35.76,51.47,43.57,39.37,37.04,35.32,36.27,43.96,41.89,36.43,38.13,42.33],\"xaxis\":\"x\",\"y\":[10.5,16.25,13.9,12.85,12.3,15.099999999999998,13.650000000000002,11.4,10.5,21.4,15.150000000000002,11.950000000000001,19.8,9.8,6.75,11.0,14.0,6.949999999999999,27.55,18.799999999999997,12.0,9.5,9.4,14.100000000000001,16.5,8.149999999999999,10.45,7.0,10.15,10.75,10.5,8.100000000000001,10.350000000000001,10.75,10.5,13.15,13.65,7.749999999999999,8.5,10.399999999999999,1.5499999999999998,17.25,3.95,10.549999999999999,11.700000000000001,12.95,10.549999999999999,8.45,8.350000000000001,6.85,9.35,6.4,8.4,9.649999999999999,11.95,18.9,22.3,12.399999999999999,8.0,13.65,14.850000000000001,17.6,10.65,20.15,10.950000000000001,11.75,12.399999999999999,12.0,7.949999999999999,14.3,10.899999999999999,14.0,11.45,7.45],\"yaxis\":\"y\",\"type\":\"scatter\"}],                        {\"template\":{\"data\":{\"bar\":[{\"error_x\":{\"color\":\"#2a3f5f\"},\"error_y\":{\"color\":\"#2a3f5f\"},\"marker\":{\"line\":{\"color\":\"#E5ECF6\",\"width\":0.5},\"pattern\":{\"fillmode\":\"overlay\",\"size\":10,\"solidity\":0.2}},\"type\":\"bar\"}],\"barpolar\":[{\"marker\":{\"line\":{\"color\":\"#E5ECF6\",\"width\":0.5},\"pattern\":{\"fillmode\":\"overlay\",\"size\":10,\"solidity\":0.2}},\"type\":\"barpolar\"}],\"carpet\":[{\"aaxis\":{\"endlinecolor\":\"#2a3f5f\",\"gridcolor\":\"white\",\"linecolor\":\"white\",\"minorgridcolor\":\"white\",\"startlinecolor\":\"#2a3f5f\"},\"baxis\":{\"endlinecolor\":\"#2a3f5f\",\"gridcolor\":\"white\",\"linecolor\":\"white\",\"minorgridcolor\":\"white\",\"startlinecolor\":\"#2a3f5f\"},\"type\":\"carpet\"}],\"choropleth\":[{\"colorbar\":{\"outlinewidth\":0,\"ticks\":\"\"},\"type\":\"choropleth\"}],\"contour\":[{\"colorbar\":{\"outlinewidth\":0,\"ticks\":\"\"},\"colorscale\":[[0.0,\"#0d0887\"],[0.1111111111111111,\"#46039f\"],[0.2222222222222222,\"#7201a8\"],[0.3333333333333333,\"#9c179e\"],[0.4444444444444444,\"#bd3786\"],[0.5555555555555556,\"#d8576b\"],[0.6666666666666666,\"#ed7953\"],[0.7777777777777778,\"#fb9f3a\"],[0.8888888888888888,\"#fdca26\"],[1.0,\"#f0f921\"]],\"type\":\"contour\"}],\"contourcarpet\":[{\"colorbar\":{\"outlinewidth\":0,\"ticks\":\"\"},\"type\":\"contourcarpet\"}],\"heatmap\":[{\"colorbar\":{\"outlinewidth\":0,\"ticks\":\"\"},\"colorscale\":[[0.0,\"#0d0887\"],[0.1111111111111111,\"#46039f\"],[0.2222222222222222,\"#7201a8\"],[0.3333333333333333,\"#9c179e\"],[0.4444444444444444,\"#bd3786\"],[0.5555555555555556,\"#d8576b\"],[0.6666666666666666,\"#ed7953\"],[0.7777777777777778,\"#fb9f3a\"],[0.8888888888888888,\"#fdca26\"],[1.0,\"#f0f921\"]],\"type\":\"heatmap\"}],\"heatmapgl\":[{\"colorbar\":{\"outlinewidth\":0,\"ticks\":\"\"},\"colorscale\":[[0.0,\"#0d0887\"],[0.1111111111111111,\"#46039f\"],[0.2222222222222222,\"#7201a8\"],[0.3333333333333333,\"#9c179e\"],[0.4444444444444444,\"#bd3786\"],[0.5555555555555556,\"#d8576b\"],[0.6666666666666666,\"#ed7953\"],[0.7777777777777778,\"#fb9f3a\"],[0.8888888888888888,\"#fdca26\"],[1.0,\"#f0f921\"]],\"type\":\"heatmapgl\"}],\"histogram\":[{\"marker\":{\"pattern\":{\"fillmode\":\"overlay\",\"size\":10,\"solidity\":0.2}},\"type\":\"histogram\"}],\"histogram2d\":[{\"colorbar\":{\"outlinewidth\":0,\"ticks\":\"\"},\"colorscale\":[[0.0,\"#0d0887\"],[0.1111111111111111,\"#46039f\"],[0.2222222222222222,\"#7201a8\"],[0.3333333333333333,\"#9c179e\"],[0.4444444444444444,\"#bd3786\"],[0.5555555555555556,\"#d8576b\"],[0.6666666666666666,\"#ed7953\"],[0.7777777777777778,\"#fb9f3a\"],[0.8888888888888888,\"#fdca26\"],[1.0,\"#f0f921\"]],\"type\":\"histogram2d\"}],\"histogram2dcontour\":[{\"colorbar\":{\"outlinewidth\":0,\"ticks\":\"\"},\"colorscale\":[[0.0,\"#0d0887\"],[0.1111111111111111,\"#46039f\"],[0.2222222222222222,\"#7201a8\"],[0.3333333333333333,\"#9c179e\"],[0.4444444444444444,\"#bd3786\"],[0.5555555555555556,\"#d8576b\"],[0.6666666666666666,\"#ed7953\"],[0.7777777777777778,\"#fb9f3a\"],[0.8888888888888888,\"#fdca26\"],[1.0,\"#f0f921\"]],\"type\":\"histogram2dcontour\"}],\"mesh3d\":[{\"colorbar\":{\"outlinewidth\":0,\"ticks\":\"\"},\"type\":\"mesh3d\"}],\"parcoords\":[{\"line\":{\"colorbar\":{\"outlinewidth\":0,\"ticks\":\"\"}},\"type\":\"parcoords\"}],\"pie\":[{\"automargin\":true,\"type\":\"pie\"}],\"scatter\":[{\"marker\":{\"colorbar\":{\"outlinewidth\":0,\"ticks\":\"\"}},\"type\":\"scatter\"}],\"scatter3d\":[{\"line\":{\"colorbar\":{\"outlinewidth\":0,\"ticks\":\"\"}},\"marker\":{\"colorbar\":{\"outlinewidth\":0,\"ticks\":\"\"}},\"type\":\"scatter3d\"}],\"scattercarpet\":[{\"marker\":{\"colorbar\":{\"outlinewidth\":0,\"ticks\":\"\"}},\"type\":\"scattercarpet\"}],\"scattergeo\":[{\"marker\":{\"colorbar\":{\"outlinewidth\":0,\"ticks\":\"\"}},\"type\":\"scattergeo\"}],\"scattergl\":[{\"marker\":{\"colorbar\":{\"outlinewidth\":0,\"ticks\":\"\"}},\"type\":\"scattergl\"}],\"scattermapbox\":[{\"marker\":{\"colorbar\":{\"outlinewidth\":0,\"ticks\":\"\"}},\"type\":\"scattermapbox\"}],\"scatterpolar\":[{\"marker\":{\"colorbar\":{\"outlinewidth\":0,\"ticks\":\"\"}},\"type\":\"scatterpolar\"}],\"scatterpolargl\":[{\"marker\":{\"colorbar\":{\"outlinewidth\":0,\"ticks\":\"\"}},\"type\":\"scatterpolargl\"}],\"scatterternary\":[{\"marker\":{\"colorbar\":{\"outlinewidth\":0,\"ticks\":\"\"}},\"type\":\"scatterternary\"}],\"surface\":[{\"colorbar\":{\"outlinewidth\":0,\"ticks\":\"\"},\"colorscale\":[[0.0,\"#0d0887\"],[0.1111111111111111,\"#46039f\"],[0.2222222222222222,\"#7201a8\"],[0.3333333333333333,\"#9c179e\"],[0.4444444444444444,\"#bd3786\"],[0.5555555555555556,\"#d8576b\"],[0.6666666666666666,\"#ed7953\"],[0.7777777777777778,\"#fb9f3a\"],[0.8888888888888888,\"#fdca26\"],[1.0,\"#f0f921\"]],\"type\":\"surface\"}],\"table\":[{\"cells\":{\"fill\":{\"color\":\"#EBF0F8\"},\"line\":{\"color\":\"white\"}},\"header\":{\"fill\":{\"color\":\"#C8D4E3\"},\"line\":{\"color\":\"white\"}},\"type\":\"table\"}]},\"layout\":{\"annotationdefaults\":{\"arrowcolor\":\"#2a3f5f\",\"arrowhead\":0,\"arrowwidth\":1},\"autotypenumbers\":\"strict\",\"coloraxis\":{\"colorbar\":{\"outlinewidth\":0,\"ticks\":\"\"}},\"colorscale\":{\"diverging\":[[0,\"#8e0152\"],[0.1,\"#c51b7d\"],[0.2,\"#de77ae\"],[0.3,\"#f1b6da\"],[0.4,\"#fde0ef\"],[0.5,\"#f7f7f7\"],[0.6,\"#e6f5d0\"],[0.7,\"#b8e186\"],[0.8,\"#7fbc41\"],[0.9,\"#4d9221\"],[1,\"#276419\"]],\"sequential\":[[0.0,\"#0d0887\"],[0.1111111111111111,\"#46039f\"],[0.2222222222222222,\"#7201a8\"],[0.3333333333333333,\"#9c179e\"],[0.4444444444444444,\"#bd3786\"],[0.5555555555555556,\"#d8576b\"],[0.6666666666666666,\"#ed7953\"],[0.7777777777777778,\"#fb9f3a\"],[0.8888888888888888,\"#fdca26\"],[1.0,\"#f0f921\"]],\"sequentialminus\":[[0.0,\"#0d0887\"],[0.1111111111111111,\"#46039f\"],[0.2222222222222222,\"#7201a8\"],[0.3333333333333333,\"#9c179e\"],[0.4444444444444444,\"#bd3786\"],[0.5555555555555556,\"#d8576b\"],[0.6666666666666666,\"#ed7953\"],[0.7777777777777778,\"#fb9f3a\"],[0.8888888888888888,\"#fdca26\"],[1.0,\"#f0f921\"]]},\"colorway\":[\"#636efa\",\"#EF553B\",\"#00cc96\",\"#ab63fa\",\"#FFA15A\",\"#19d3f3\",\"#FF6692\",\"#B6E880\",\"#FF97FF\",\"#FECB52\"],\"font\":{\"color\":\"#2a3f5f\"},\"geo\":{\"bgcolor\":\"white\",\"lakecolor\":\"white\",\"landcolor\":\"#E5ECF6\",\"showlakes\":true,\"showland\":true,\"subunitcolor\":\"white\"},\"hoverlabel\":{\"align\":\"left\"},\"hovermode\":\"closest\",\"mapbox\":{\"style\":\"light\"},\"paper_bgcolor\":\"white\",\"plot_bgcolor\":\"#E5ECF6\",\"polar\":{\"angularaxis\":{\"gridcolor\":\"white\",\"linecolor\":\"white\",\"ticks\":\"\"},\"bgcolor\":\"#E5ECF6\",\"radialaxis\":{\"gridcolor\":\"white\",\"linecolor\":\"white\",\"ticks\":\"\"}},\"scene\":{\"xaxis\":{\"backgroundcolor\":\"#E5ECF6\",\"gridcolor\":\"white\",\"gridwidth\":2,\"linecolor\":\"white\",\"showbackground\":true,\"ticks\":\"\",\"zerolinecolor\":\"white\"},\"yaxis\":{\"backgroundcolor\":\"#E5ECF6\",\"gridcolor\":\"white\",\"gridwidth\":2,\"linecolor\":\"white\",\"showbackground\":true,\"ticks\":\"\",\"zerolinecolor\":\"white\"},\"zaxis\":{\"backgroundcolor\":\"#E5ECF6\",\"gridcolor\":\"white\",\"gridwidth\":2,\"linecolor\":\"white\",\"showbackground\":true,\"ticks\":\"\",\"zerolinecolor\":\"white\"}},\"shapedefaults\":{\"line\":{\"color\":\"#2a3f5f\"}},\"ternary\":{\"aaxis\":{\"gridcolor\":\"white\",\"linecolor\":\"white\",\"ticks\":\"\"},\"baxis\":{\"gridcolor\":\"white\",\"linecolor\":\"white\",\"ticks\":\"\"},\"bgcolor\":\"#E5ECF6\",\"caxis\":{\"gridcolor\":\"white\",\"linecolor\":\"white\",\"ticks\":\"\"}},\"title\":{\"x\":0.05},\"xaxis\":{\"automargin\":true,\"gridcolor\":\"white\",\"linecolor\":\"white\",\"ticks\":\"\",\"title\":{\"standoff\":15},\"zerolinecolor\":\"white\",\"zerolinewidth\":2},\"yaxis\":{\"automargin\":true,\"gridcolor\":\"white\",\"linecolor\":\"white\",\"ticks\":\"\",\"title\":{\"standoff\":15},\"zerolinecolor\":\"white\",\"zerolinewidth\":2}}},\"xaxis\":{\"anchor\":\"y\",\"domain\":[0.0,1.0],\"title\":{\"text\":\"Htot.2015\"}},\"yaxis\":{\"anchor\":\"x\",\"domain\":[0.0,1.0],\"title\":{\"text\":\"avg_crown_size\"}},\"legend\":{\"tracegroupgap\":0},\"margin\":{\"t\":60}},                        {\"responsive\": true}                    ).then(function(){\n",
              "                            \n",
              "var gd = document.getElementById('23cb55fe-8d21-4a8a-bd1a-5de231b158b9');\n",
              "var x = new MutationObserver(function (mutations, observer) {{\n",
              "        var display = window.getComputedStyle(gd).display;\n",
              "        if (!display || display === 'none') {{\n",
              "            console.log([gd, 'removed!']);\n",
              "            Plotly.purge(gd);\n",
              "            observer.disconnect();\n",
              "        }}\n",
              "}});\n",
              "\n",
              "// Listen for the removal of the full notebook cells\n",
              "var notebookContainer = gd.closest('#notebook-container');\n",
              "if (notebookContainer) {{\n",
              "    x.observe(notebookContainer, {childList: true});\n",
              "}}\n",
              "\n",
              "// Listen for the clearing of the current output cell\n",
              "var outputEl = gd.closest('.output');\n",
              "if (outputEl) {{\n",
              "    x.observe(outputEl, {childList: true});\n",
              "}}\n",
              "\n",
              "                        })                };                            </script>        </div>\n",
              "</body>\n",
              "</html>"
            ]
          },
          "metadata": {},
          "output_type": "display_data"
        }
      ],
      "source": [
        "fig = px.scatter(Window_size_calculation_df,\n",
        "                 x=\"Htot.2015\", y=(\"avg_crown_size\"))\n",
        "fig.show()"
      ]
    },
    {
      "cell_type": "markdown",
      "metadata": {
        "id": "Z_OfIV_ojzKT"
      },
      "source": [
        "* At first glance, it appears that there is not a strong correlation between tree height and crown size."
      ]
    },
    {
      "cell_type": "code",
      "execution_count": null,
      "metadata": {
        "colab": {
          "base_uri": "https://localhost:8080/"
        },
        "id": "Cqg6tzrZdj7p",
        "outputId": "374f783b-7240-486f-8690-3ec0dafc0e0e"
      },
      "outputs": [
        {
          "data": {
            "text/plain": [
              "0.03667282341233591"
            ]
          },
          "execution_count": 156,
          "metadata": {},
          "output_type": "execute_result"
        }
      ],
      "source": [
        "#Define X & Y values for Linear Regresion\n",
        "X = Window_size_calculation_df['Htot.2015'].to_numpy().reshape(-1, 1)\n",
        "y = Window_size_calculation_df['avg_crown_size']\n",
        "\n",
        "#Fit Linear Regression to the data\n",
        "reg = LinearRegression().fit(X, y)\n",
        "predictions = reg.predict(X)\n",
        "\n",
        "# Obtain r-squared coefficient\n",
        "r2_score(y, predictions)"
      ]
    },
    {
      "cell_type": "code",
      "execution_count": null,
      "metadata": {
        "colab": {
          "base_uri": "https://localhost:8080/"
        },
        "id": "EIIvr_Idkmdo",
        "outputId": "cc0149e3-8aee-4713-e233-22a749f572bf"
      },
      "outputs": [
        {
          "name": "stdout",
          "output_type": "stream",
          "text": [
            "coef: [0.1370734]\n",
            "intercept: 6.298363956250762\n"
          ]
        }
      ],
      "source": [
        "# Obtain LR coefficients \n",
        "print(\"coef:\", reg.coef_)\n",
        "print(\"intercept:\",reg.intercept_)"
      ]
    },
    {
      "cell_type": "code",
      "execution_count": null,
      "metadata": {
        "colab": {
          "base_uri": "https://localhost:8080/",
          "height": 295
        },
        "id": "ZLuaApHMnjaI",
        "outputId": "9fa3654c-ceb3-417e-a7a9-8bfa7d2100f0"
      },
      "outputs": [
        {
          "data": {
            "image/png": "[encoded data removed]",
            "text/plain": [
              "<Figure size 432x288 with 1 Axes>"
            ]
          },
          "metadata": {
            "needs_background": "light"
          },
          "output_type": "display_data"
        }
      ],
      "source": [
        "# Visualising the Linear Regression results\n",
        "import matplotlib.pyplot as plt\n",
        "\n",
        "plt.scatter(X, y, color = 'blue')\n",
        "\n",
        "plt.plot(X, reg.predict(X), color = 'red')\n",
        "plt.title('Linear Regression')\n",
        "plt.xlabel('Tree Height')\n",
        "plt.ylabel('Crown Size')\n",
        "\n",
        "plt.show()"
      ]
    }
  ],
  "metadata": {
    "colab": {
      "provenance": []
    },
    "kernelspec": {
      "display_name": "Python 3",
      "name": "python3"
    },
    "language_info": {
      "name": "python"
    }
  },
  "nbformat": 4,
  "nbformat_minor": 0
}
